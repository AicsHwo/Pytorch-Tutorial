{
 "cells": [
  {
   "cell_type": "markdown",
   "metadata": {},
   "source": [
    "# Pytorch 101\n",
    "#### Date : 2019.04.06\n",
    "#### Jen-Huan Hu"
   ]
  },
  {
   "cell_type": "markdown",
   "metadata": {},
   "source": [
    "##### The ```torch.nn``` module\n",
    "- ```.Linear(in_features = N, out_features = M, bias = True)``` : Fully-connection layer"
   ]
  },
  {
   "cell_type": "code",
   "execution_count": 1,
   "metadata": {},
   "outputs": [
    {
     "name": "stdout",
     "output_type": "stream",
     "text": [
      "Parameter containing:\n",
      "tensor([[ 0.1835, -0.0290, -0.2966,  0.1916,  0.0304, -0.0901,  0.3090,  0.1858,\n",
      "          0.2046,  0.1312],\n",
      "        [-0.2246, -0.0470,  0.1296,  0.2233, -0.2422,  0.1280, -0.1595,  0.0573,\n",
      "          0.0488,  0.1375],\n",
      "        [ 0.0235,  0.0214,  0.0586,  0.2033,  0.0340, -0.2450,  0.2265, -0.1284,\n",
      "         -0.0227, -0.0641],\n",
      "        [-0.1015, -0.0321, -0.2330,  0.0410,  0.2116, -0.1731,  0.0312,  0.0233,\n",
      "         -0.0255,  0.2303],\n",
      "        [-0.2413, -0.1151,  0.2461, -0.2801, -0.0566,  0.2635, -0.0731,  0.1348,\n",
      "          0.1934,  0.2076]], requires_grad=True)\n",
      "Parameter containing:\n",
      "tensor([ 0.1421,  0.2230, -0.0539,  0.0022,  0.0199], requires_grad=True)\n"
     ]
    }
   ],
   "source": [
    "import torch\n",
    "L = torch.nn.Linear(10, 5, True)\n",
    "print(L.weight)\n",
    "print(L.bias)"
   ]
  },
  {
   "cell_type": "markdown",
   "metadata": {},
   "source": [
    "#### Various Activation function\n",
    "- Relu : ```ActFn = torch.nn.ReLU(inplace=False)```\n",
    "- Leaky-Relu : ```ActFn = torch.nn.LeakyReLU(negative_slope=0.01, inplace=False)```\n",
    "- tanh : ```ActFn = torch.nn.Tanh()```\n",
    "- sigmoid : ```ActFn = torch.nn.Sigmoid()```"
   ]
  },
  {
   "cell_type": "code",
   "execution_count": 24,
   "metadata": {},
   "outputs": [
    {
     "data": {
      "image/png": "[encoded data removed]",
      "text/plain": [
       "<Figure size 432x288 with 1 Axes>"
      ]
     },
     "metadata": {},
     "output_type": "display_data"
    }
   ],
   "source": [
    "import numpy as np\n",
    "a = torch.tensor(np.arange(-10., 10., 0.25))\n",
    "F = torch.nn.ReLU()\n",
    "F = torch.nn.LeakyReLU(negative_slope=0.05)\n",
    "F = torch.nn.Sigmoid()\n",
    "\n",
    "import matplotlib.pyplot as plt\n",
    "plt.plot(a.numpy(), F(a).numpy(), 'o-')\n",
    "plt.show()"
   ]
  },
  {
   "cell_type": "markdown",
   "metadata": {},
   "source": [
    "---\n",
    "##### Build Network Architecture via inheritance of ```torch.nn.Module```"
   ]
  },
  {
   "cell_type": "code",
   "execution_count": null,
   "metadata": {},
   "outputs": [],
   "source": [
    "class Test(torch.nn.Module):\n",
    "    def __init__(self, in_dim, out_dim):\n",
    "        \n",
    "    def __forward__(self):\n",
    "        "
   ]
  }
 ],
 "metadata": {
  "kernelspec": {
   "display_name": "Python 3",
   "language": "python",
   "name": "python3"
  },
  "language_info": {
   "codemirror_mode": {
    "name": "ipython",
    "version": 3
   },
   "file_extension": ".py",
   "mimetype": "text/x-python",
   "name": "python",
   "nbconvert_exporter": "python",
   "pygments_lexer": "ipython3",
   "version": "3.6.5"
  }
 },
 "nbformat": 4,
 "nbformat_minor": 2
}
